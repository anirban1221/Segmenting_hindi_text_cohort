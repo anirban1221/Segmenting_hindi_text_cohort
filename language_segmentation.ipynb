{
  "nbformat": 4,
  "nbformat_minor": 0,
  "metadata": {
    "colab": {
      "provenance": []
    },
    "kernelspec": {
      "name": "python3",
      "display_name": "Python 3"
    },
    "language_info": {
      "name": "python"
    },
    "widgets": {
      "application/vnd.jupyter.widget-state+json": {
        "4d8952e8b4a94716b2443d9ea99a2e06": {
          "model_module": "@jupyter-widgets/controls",
          "model_name": "HBoxModel",
          "model_module_version": "1.5.0",
          "state": {
            "_dom_classes": [],
            "_model_module": "@jupyter-widgets/controls",
            "_model_module_version": "1.5.0",
            "_model_name": "HBoxModel",
            "_view_count": null,
            "_view_module": "@jupyter-widgets/controls",
            "_view_module_version": "1.5.0",
            "_view_name": "HBoxView",
            "box_style": "",
            "children": [
              "IPY_MODEL_dcd55a5491cf46f2890a7d5783790c76",
              "IPY_MODEL_366547932d11491696a8345d43723fb3",
              "IPY_MODEL_1182b4626db04382a325d52b656d2603"
            ],
            "layout": "IPY_MODEL_b775d0a6919744e28c387b893ea4e81d"
          }
        },
        "dcd55a5491cf46f2890a7d5783790c76": {
          "model_module": "@jupyter-widgets/controls",
          "model_name": "HTMLModel",
          "model_module_version": "1.5.0",
          "state": {
            "_dom_classes": [],
            "_model_module": "@jupyter-widgets/controls",
            "_model_module_version": "1.5.0",
            "_model_name": "HTMLModel",
            "_view_count": null,
            "_view_module": "@jupyter-widgets/controls",
            "_view_module_version": "1.5.0",
            "_view_name": "HTMLView",
            "description": "",
            "description_tooltip": null,
            "layout": "IPY_MODEL_264d3c1d73f9451f9c3d46baed7e6e0f",
            "placeholder": "​",
            "style": "IPY_MODEL_3fc48b4a60494bb69b4457ab987eec7a",
            "value": "Downloading https://raw.githubusercontent.com/stanfordnlp/stanza-resources/main/resources_1.10.0.json: "
          }
        },
        "366547932d11491696a8345d43723fb3": {
          "model_module": "@jupyter-widgets/controls",
          "model_name": "FloatProgressModel",
          "model_module_version": "1.5.0",
          "state": {
            "_dom_classes": [],
            "_model_module": "@jupyter-widgets/controls",
            "_model_module_version": "1.5.0",
            "_model_name": "FloatProgressModel",
            "_view_count": null,
            "_view_module": "@jupyter-widgets/controls",
            "_view_module_version": "1.5.0",
            "_view_name": "ProgressView",
            "bar_style": "success",
            "description": "",
            "description_tooltip": null,
            "layout": "IPY_MODEL_17d5a1d08bea43c689226d0f1a23d6b1",
            "max": 52744,
            "min": 0,
            "orientation": "horizontal",
            "style": "IPY_MODEL_6d5e311b6eb84aa5befabd310827c41a",
            "value": 52744
          }
        },
        "1182b4626db04382a325d52b656d2603": {
          "model_module": "@jupyter-widgets/controls",
          "model_name": "HTMLModel",
          "model_module_version": "1.5.0",
          "state": {
            "_dom_classes": [],
            "_model_module": "@jupyter-widgets/controls",
            "_model_module_version": "1.5.0",
            "_model_name": "HTMLModel",
            "_view_count": null,
            "_view_module": "@jupyter-widgets/controls",
            "_view_module_version": "1.5.0",
            "_view_name": "HTMLView",
            "description": "",
            "description_tooltip": null,
            "layout": "IPY_MODEL_4b40886f36054468862f98604d89741e",
            "placeholder": "​",
            "style": "IPY_MODEL_8633a8fb42c349f9b2f56fdb8afc84ef",
            "value": " 426k/? [00:00&lt;00:00, 7.69MB/s]"
          }
        },
        "b775d0a6919744e28c387b893ea4e81d": {
          "model_module": "@jupyter-widgets/base",
          "model_name": "LayoutModel",
          "model_module_version": "1.2.0",
          "state": {
            "_model_module": "@jupyter-widgets/base",
            "_model_module_version": "1.2.0",
            "_model_name": "LayoutModel",
            "_view_count": null,
            "_view_module": "@jupyter-widgets/base",
            "_view_module_version": "1.2.0",
            "_view_name": "LayoutView",
            "align_content": null,
            "align_items": null,
            "align_self": null,
            "border": null,
            "bottom": null,
            "display": null,
            "flex": null,
            "flex_flow": null,
            "grid_area": null,
            "grid_auto_columns": null,
            "grid_auto_flow": null,
            "grid_auto_rows": null,
            "grid_column": null,
            "grid_gap": null,
            "grid_row": null,
            "grid_template_areas": null,
            "grid_template_columns": null,
            "grid_template_rows": null,
            "height": null,
            "justify_content": null,
            "justify_items": null,
            "left": null,
            "margin": null,
            "max_height": null,
            "max_width": null,
            "min_height": null,
            "min_width": null,
            "object_fit": null,
            "object_position": null,
            "order": null,
            "overflow": null,
            "overflow_x": null,
            "overflow_y": null,
            "padding": null,
            "right": null,
            "top": null,
            "visibility": null,
            "width": null
          }
        },
        "264d3c1d73f9451f9c3d46baed7e6e0f": {
          "model_module": "@jupyter-widgets/base",
          "model_name": "LayoutModel",
          "model_module_version": "1.2.0",
          "state": {
            "_model_module": "@jupyter-widgets/base",
            "_model_module_version": "1.2.0",
            "_model_name": "LayoutModel",
            "_view_count": null,
            "_view_module": "@jupyter-widgets/base",
            "_view_module_version": "1.2.0",
            "_view_name": "LayoutView",
            "align_content": null,
            "align_items": null,
            "align_self": null,
            "border": null,
            "bottom": null,
            "display": null,
            "flex": null,
            "flex_flow": null,
            "grid_area": null,
            "grid_auto_columns": null,
            "grid_auto_flow": null,
            "grid_auto_rows": null,
            "grid_column": null,
            "grid_gap": null,
            "grid_row": null,
            "grid_template_areas": null,
            "grid_template_columns": null,
            "grid_template_rows": null,
            "height": null,
            "justify_content": null,
            "justify_items": null,
            "left": null,
            "margin": null,
            "max_height": null,
            "max_width": null,
            "min_height": null,
            "min_width": null,
            "object_fit": null,
            "object_position": null,
            "order": null,
            "overflow": null,
            "overflow_x": null,
            "overflow_y": null,
            "padding": null,
            "right": null,
            "top": null,
            "visibility": null,
            "width": null
          }
        },
        "3fc48b4a60494bb69b4457ab987eec7a": {
          "model_module": "@jupyter-widgets/controls",
          "model_name": "DescriptionStyleModel",
          "model_module_version": "1.5.0",
          "state": {
            "_model_module": "@jupyter-widgets/controls",
            "_model_module_version": "1.5.0",
            "_model_name": "DescriptionStyleModel",
            "_view_count": null,
            "_view_module": "@jupyter-widgets/base",
            "_view_module_version": "1.2.0",
            "_view_name": "StyleView",
            "description_width": ""
          }
        },
        "17d5a1d08bea43c689226d0f1a23d6b1": {
          "model_module": "@jupyter-widgets/base",
          "model_name": "LayoutModel",
          "model_module_version": "1.2.0",
          "state": {
            "_model_module": "@jupyter-widgets/base",
            "_model_module_version": "1.2.0",
            "_model_name": "LayoutModel",
            "_view_count": null,
            "_view_module": "@jupyter-widgets/base",
            "_view_module_version": "1.2.0",
            "_view_name": "LayoutView",
            "align_content": null,
            "align_items": null,
            "align_self": null,
            "border": null,
            "bottom": null,
            "display": null,
            "flex": null,
            "flex_flow": null,
            "grid_area": null,
            "grid_auto_columns": null,
            "grid_auto_flow": null,
            "grid_auto_rows": null,
            "grid_column": null,
            "grid_gap": null,
            "grid_row": null,
            "grid_template_areas": null,
            "grid_template_columns": null,
            "grid_template_rows": null,
            "height": null,
            "justify_content": null,
            "justify_items": null,
            "left": null,
            "margin": null,
            "max_height": null,
            "max_width": null,
            "min_height": null,
            "min_width": null,
            "object_fit": null,
            "object_position": null,
            "order": null,
            "overflow": null,
            "overflow_x": null,
            "overflow_y": null,
            "padding": null,
            "right": null,
            "top": null,
            "visibility": null,
            "width": null
          }
        },
        "6d5e311b6eb84aa5befabd310827c41a": {
          "model_module": "@jupyter-widgets/controls",
          "model_name": "ProgressStyleModel",
          "model_module_version": "1.5.0",
          "state": {
            "_model_module": "@jupyter-widgets/controls",
            "_model_module_version": "1.5.0",
            "_model_name": "ProgressStyleModel",
            "_view_count": null,
            "_view_module": "@jupyter-widgets/base",
            "_view_module_version": "1.2.0",
            "_view_name": "StyleView",
            "bar_color": null,
            "description_width": ""
          }
        },
        "4b40886f36054468862f98604d89741e": {
          "model_module": "@jupyter-widgets/base",
          "model_name": "LayoutModel",
          "model_module_version": "1.2.0",
          "state": {
            "_model_module": "@jupyter-widgets/base",
            "_model_module_version": "1.2.0",
            "_model_name": "LayoutModel",
            "_view_count": null,
            "_view_module": "@jupyter-widgets/base",
            "_view_module_version": "1.2.0",
            "_view_name": "LayoutView",
            "align_content": null,
            "align_items": null,
            "align_self": null,
            "border": null,
            "bottom": null,
            "display": null,
            "flex": null,
            "flex_flow": null,
            "grid_area": null,
            "grid_auto_columns": null,
            "grid_auto_flow": null,
            "grid_auto_rows": null,
            "grid_column": null,
            "grid_gap": null,
            "grid_row": null,
            "grid_template_areas": null,
            "grid_template_columns": null,
            "grid_template_rows": null,
            "height": null,
            "justify_content": null,
            "justify_items": null,
            "left": null,
            "margin": null,
            "max_height": null,
            "max_width": null,
            "min_height": null,
            "min_width": null,
            "object_fit": null,
            "object_position": null,
            "order": null,
            "overflow": null,
            "overflow_x": null,
            "overflow_y": null,
            "padding": null,
            "right": null,
            "top": null,
            "visibility": null,
            "width": null
          }
        },
        "8633a8fb42c349f9b2f56fdb8afc84ef": {
          "model_module": "@jupyter-widgets/controls",
          "model_name": "DescriptionStyleModel",
          "model_module_version": "1.5.0",
          "state": {
            "_model_module": "@jupyter-widgets/controls",
            "_model_module_version": "1.5.0",
            "_model_name": "DescriptionStyleModel",
            "_view_count": null,
            "_view_module": "@jupyter-widgets/base",
            "_view_module_version": "1.2.0",
            "_view_name": "StyleView",
            "description_width": ""
          }
        },
        "b4236341c13240b79b5f25117ca1f284": {
          "model_module": "@jupyter-widgets/controls",
          "model_name": "HBoxModel",
          "model_module_version": "1.5.0",
          "state": {
            "_dom_classes": [],
            "_model_module": "@jupyter-widgets/controls",
            "_model_module_version": "1.5.0",
            "_model_name": "HBoxModel",
            "_view_count": null,
            "_view_module": "@jupyter-widgets/controls",
            "_view_module_version": "1.5.0",
            "_view_name": "HBoxView",
            "box_style": "",
            "children": [
              "IPY_MODEL_cefcf5980da84174a8337ea7dafb324b",
              "IPY_MODEL_35f9c8ddb38b45c2b56fdacee6da724d",
              "IPY_MODEL_d00571cf323341deade0006d5e88a1b6"
            ],
            "layout": "IPY_MODEL_6289d7c9026b4ec89db80e4174c1f494"
          }
        },
        "cefcf5980da84174a8337ea7dafb324b": {
          "model_module": "@jupyter-widgets/controls",
          "model_name": "HTMLModel",
          "model_module_version": "1.5.0",
          "state": {
            "_dom_classes": [],
            "_model_module": "@jupyter-widgets/controls",
            "_model_module_version": "1.5.0",
            "_model_name": "HTMLModel",
            "_view_count": null,
            "_view_module": "@jupyter-widgets/controls",
            "_view_module_version": "1.5.0",
            "_view_name": "HTMLView",
            "description": "",
            "description_tooltip": null,
            "layout": "IPY_MODEL_fde216a5b7884ce58133f8b9338e5970",
            "placeholder": "​",
            "style": "IPY_MODEL_717454352ad847c7a955fd1dedc38b36",
            "value": "Downloading https://raw.githubusercontent.com/stanfordnlp/stanza-resources/main/resources_1.10.0.json: "
          }
        },
        "35f9c8ddb38b45c2b56fdacee6da724d": {
          "model_module": "@jupyter-widgets/controls",
          "model_name": "FloatProgressModel",
          "model_module_version": "1.5.0",
          "state": {
            "_dom_classes": [],
            "_model_module": "@jupyter-widgets/controls",
            "_model_module_version": "1.5.0",
            "_model_name": "FloatProgressModel",
            "_view_count": null,
            "_view_module": "@jupyter-widgets/controls",
            "_view_module_version": "1.5.0",
            "_view_name": "ProgressView",
            "bar_style": "success",
            "description": "",
            "description_tooltip": null,
            "layout": "IPY_MODEL_a3a5aedfb93d4e91b293ea3774e0f0d0",
            "max": 52744,
            "min": 0,
            "orientation": "horizontal",
            "style": "IPY_MODEL_ead6b439fdd9446fb36882d3005d267c",
            "value": 52744
          }
        },
        "d00571cf323341deade0006d5e88a1b6": {
          "model_module": "@jupyter-widgets/controls",
          "model_name": "HTMLModel",
          "model_module_version": "1.5.0",
          "state": {
            "_dom_classes": [],
            "_model_module": "@jupyter-widgets/controls",
            "_model_module_version": "1.5.0",
            "_model_name": "HTMLModel",
            "_view_count": null,
            "_view_module": "@jupyter-widgets/controls",
            "_view_module_version": "1.5.0",
            "_view_name": "HTMLView",
            "description": "",
            "description_tooltip": null,
            "layout": "IPY_MODEL_921e5fdab88045208d30930b119896fd",
            "placeholder": "​",
            "style": "IPY_MODEL_57540b515e1a4b978f3393564857b315",
            "value": " 426k/? [00:00&lt;00:00, 8.71MB/s]"
          }
        },
        "6289d7c9026b4ec89db80e4174c1f494": {
          "model_module": "@jupyter-widgets/base",
          "model_name": "LayoutModel",
          "model_module_version": "1.2.0",
          "state": {
            "_model_module": "@jupyter-widgets/base",
            "_model_module_version": "1.2.0",
            "_model_name": "LayoutModel",
            "_view_count": null,
            "_view_module": "@jupyter-widgets/base",
            "_view_module_version": "1.2.0",
            "_view_name": "LayoutView",
            "align_content": null,
            "align_items": null,
            "align_self": null,
            "border": null,
            "bottom": null,
            "display": null,
            "flex": null,
            "flex_flow": null,
            "grid_area": null,
            "grid_auto_columns": null,
            "grid_auto_flow": null,
            "grid_auto_rows": null,
            "grid_column": null,
            "grid_gap": null,
            "grid_row": null,
            "grid_template_areas": null,
            "grid_template_columns": null,
            "grid_template_rows": null,
            "height": null,
            "justify_content": null,
            "justify_items": null,
            "left": null,
            "margin": null,
            "max_height": null,
            "max_width": null,
            "min_height": null,
            "min_width": null,
            "object_fit": null,
            "object_position": null,
            "order": null,
            "overflow": null,
            "overflow_x": null,
            "overflow_y": null,
            "padding": null,
            "right": null,
            "top": null,
            "visibility": null,
            "width": null
          }
        },
        "fde216a5b7884ce58133f8b9338e5970": {
          "model_module": "@jupyter-widgets/base",
          "model_name": "LayoutModel",
          "model_module_version": "1.2.0",
          "state": {
            "_model_module": "@jupyter-widgets/base",
            "_model_module_version": "1.2.0",
            "_model_name": "LayoutModel",
            "_view_count": null,
            "_view_module": "@jupyter-widgets/base",
            "_view_module_version": "1.2.0",
            "_view_name": "LayoutView",
            "align_content": null,
            "align_items": null,
            "align_self": null,
            "border": null,
            "bottom": null,
            "display": null,
            "flex": null,
            "flex_flow": null,
            "grid_area": null,
            "grid_auto_columns": null,
            "grid_auto_flow": null,
            "grid_auto_rows": null,
            "grid_column": null,
            "grid_gap": null,
            "grid_row": null,
            "grid_template_areas": null,
            "grid_template_columns": null,
            "grid_template_rows": null,
            "height": null,
            "justify_content": null,
            "justify_items": null,
            "left": null,
            "margin": null,
            "max_height": null,
            "max_width": null,
            "min_height": null,
            "min_width": null,
            "object_fit": null,
            "object_position": null,
            "order": null,
            "overflow": null,
            "overflow_x": null,
            "overflow_y": null,
            "padding": null,
            "right": null,
            "top": null,
            "visibility": null,
            "width": null
          }
        },
        "717454352ad847c7a955fd1dedc38b36": {
          "model_module": "@jupyter-widgets/controls",
          "model_name": "DescriptionStyleModel",
          "model_module_version": "1.5.0",
          "state": {
            "_model_module": "@jupyter-widgets/controls",
            "_model_module_version": "1.5.0",
            "_model_name": "DescriptionStyleModel",
            "_view_count": null,
            "_view_module": "@jupyter-widgets/base",
            "_view_module_version": "1.2.0",
            "_view_name": "StyleView",
            "description_width": ""
          }
        },
        "a3a5aedfb93d4e91b293ea3774e0f0d0": {
          "model_module": "@jupyter-widgets/base",
          "model_name": "LayoutModel",
          "model_module_version": "1.2.0",
          "state": {
            "_model_module": "@jupyter-widgets/base",
            "_model_module_version": "1.2.0",
            "_model_name": "LayoutModel",
            "_view_count": null,
            "_view_module": "@jupyter-widgets/base",
            "_view_module_version": "1.2.0",
            "_view_name": "LayoutView",
            "align_content": null,
            "align_items": null,
            "align_self": null,
            "border": null,
            "bottom": null,
            "display": null,
            "flex": null,
            "flex_flow": null,
            "grid_area": null,
            "grid_auto_columns": null,
            "grid_auto_flow": null,
            "grid_auto_rows": null,
            "grid_column": null,
            "grid_gap": null,
            "grid_row": null,
            "grid_template_areas": null,
            "grid_template_columns": null,
            "grid_template_rows": null,
            "height": null,
            "justify_content": null,
            "justify_items": null,
            "left": null,
            "margin": null,
            "max_height": null,
            "max_width": null,
            "min_height": null,
            "min_width": null,
            "object_fit": null,
            "object_position": null,
            "order": null,
            "overflow": null,
            "overflow_x": null,
            "overflow_y": null,
            "padding": null,
            "right": null,
            "top": null,
            "visibility": null,
            "width": null
          }
        },
        "ead6b439fdd9446fb36882d3005d267c": {
          "model_module": "@jupyter-widgets/controls",
          "model_name": "ProgressStyleModel",
          "model_module_version": "1.5.0",
          "state": {
            "_model_module": "@jupyter-widgets/controls",
            "_model_module_version": "1.5.0",
            "_model_name": "ProgressStyleModel",
            "_view_count": null,
            "_view_module": "@jupyter-widgets/base",
            "_view_module_version": "1.2.0",
            "_view_name": "StyleView",
            "bar_color": null,
            "description_width": ""
          }
        },
        "921e5fdab88045208d30930b119896fd": {
          "model_module": "@jupyter-widgets/base",
          "model_name": "LayoutModel",
          "model_module_version": "1.2.0",
          "state": {
            "_model_module": "@jupyter-widgets/base",
            "_model_module_version": "1.2.0",
            "_model_name": "LayoutModel",
            "_view_count": null,
            "_view_module": "@jupyter-widgets/base",
            "_view_module_version": "1.2.0",
            "_view_name": "LayoutView",
            "align_content": null,
            "align_items": null,
            "align_self": null,
            "border": null,
            "bottom": null,
            "display": null,
            "flex": null,
            "flex_flow": null,
            "grid_area": null,
            "grid_auto_columns": null,
            "grid_auto_flow": null,
            "grid_auto_rows": null,
            "grid_column": null,
            "grid_gap": null,
            "grid_row": null,
            "grid_template_areas": null,
            "grid_template_columns": null,
            "grid_template_rows": null,
            "height": null,
            "justify_content": null,
            "justify_items": null,
            "left": null,
            "margin": null,
            "max_height": null,
            "max_width": null,
            "min_height": null,
            "min_width": null,
            "object_fit": null,
            "object_position": null,
            "order": null,
            "overflow": null,
            "overflow_x": null,
            "overflow_y": null,
            "padding": null,
            "right": null,
            "top": null,
            "visibility": null,
            "width": null
          }
        },
        "57540b515e1a4b978f3393564857b315": {
          "model_module": "@jupyter-widgets/controls",
          "model_name": "DescriptionStyleModel",
          "model_module_version": "1.5.0",
          "state": {
            "_model_module": "@jupyter-widgets/controls",
            "_model_module_version": "1.5.0",
            "_model_name": "DescriptionStyleModel",
            "_view_count": null,
            "_view_module": "@jupyter-widgets/base",
            "_view_module_version": "1.2.0",
            "_view_name": "StyleView",
            "description_width": ""
          }
        }
      }
    }
  },
  "cells": [
    {
      "cell_type": "code",
      "source": [
        "!pip install stanza"
      ],
      "metadata": {
        "colab": {
          "base_uri": "https://localhost:8080/"
        },
        "id": "3Pd7EXToLXJd",
        "outputId": "4c27c4f0-c1ca-4f11-840d-1bf71767a81a"
      },
      "execution_count": 34,
      "outputs": [
        {
          "output_type": "stream",
          "name": "stdout",
          "text": [
            "Requirement already satisfied: stanza in /usr/local/lib/python3.11/dist-packages (1.10.1)\n",
            "Requirement already satisfied: emoji in /usr/local/lib/python3.11/dist-packages (from stanza) (2.14.1)\n",
            "Requirement already satisfied: numpy in /usr/local/lib/python3.11/dist-packages (from stanza) (2.0.2)\n",
            "Requirement already satisfied: protobuf>=3.15.0 in /usr/local/lib/python3.11/dist-packages (from stanza) (5.29.4)\n",
            "Requirement already satisfied: requests in /usr/local/lib/python3.11/dist-packages (from stanza) (2.32.3)\n",
            "Requirement already satisfied: networkx in /usr/local/lib/python3.11/dist-packages (from stanza) (3.4.2)\n",
            "Requirement already satisfied: torch>=1.3.0 in /usr/local/lib/python3.11/dist-packages (from stanza) (2.6.0+cu124)\n",
            "Requirement already satisfied: tqdm in /usr/local/lib/python3.11/dist-packages (from stanza) (4.67.1)\n",
            "Requirement already satisfied: filelock in /usr/local/lib/python3.11/dist-packages (from torch>=1.3.0->stanza) (3.18.0)\n",
            "Requirement already satisfied: typing-extensions>=4.10.0 in /usr/local/lib/python3.11/dist-packages (from torch>=1.3.0->stanza) (4.13.1)\n",
            "Requirement already satisfied: jinja2 in /usr/local/lib/python3.11/dist-packages (from torch>=1.3.0->stanza) (3.1.6)\n",
            "Requirement already satisfied: fsspec in /usr/local/lib/python3.11/dist-packages (from torch>=1.3.0->stanza) (2025.3.2)\n",
            "Requirement already satisfied: nvidia-cuda-nvrtc-cu12==12.4.127 in /usr/local/lib/python3.11/dist-packages (from torch>=1.3.0->stanza) (12.4.127)\n",
            "Requirement already satisfied: nvidia-cuda-runtime-cu12==12.4.127 in /usr/local/lib/python3.11/dist-packages (from torch>=1.3.0->stanza) (12.4.127)\n",
            "Requirement already satisfied: nvidia-cuda-cupti-cu12==12.4.127 in /usr/local/lib/python3.11/dist-packages (from torch>=1.3.0->stanza) (12.4.127)\n",
            "Requirement already satisfied: nvidia-cudnn-cu12==9.1.0.70 in /usr/local/lib/python3.11/dist-packages (from torch>=1.3.0->stanza) (9.1.0.70)\n",
            "Requirement already satisfied: nvidia-cublas-cu12==12.4.5.8 in /usr/local/lib/python3.11/dist-packages (from torch>=1.3.0->stanza) (12.4.5.8)\n",
            "Requirement already satisfied: nvidia-cufft-cu12==11.2.1.3 in /usr/local/lib/python3.11/dist-packages (from torch>=1.3.0->stanza) (11.2.1.3)\n",
            "Requirement already satisfied: nvidia-curand-cu12==10.3.5.147 in /usr/local/lib/python3.11/dist-packages (from torch>=1.3.0->stanza) (10.3.5.147)\n",
            "Requirement already satisfied: nvidia-cusolver-cu12==11.6.1.9 in /usr/local/lib/python3.11/dist-packages (from torch>=1.3.0->stanza) (11.6.1.9)\n",
            "Requirement already satisfied: nvidia-cusparse-cu12==12.3.1.170 in /usr/local/lib/python3.11/dist-packages (from torch>=1.3.0->stanza) (12.3.1.170)\n",
            "Requirement already satisfied: nvidia-cusparselt-cu12==0.6.2 in /usr/local/lib/python3.11/dist-packages (from torch>=1.3.0->stanza) (0.6.2)\n",
            "Requirement already satisfied: nvidia-nccl-cu12==2.21.5 in /usr/local/lib/python3.11/dist-packages (from torch>=1.3.0->stanza) (2.21.5)\n",
            "Requirement already satisfied: nvidia-nvtx-cu12==12.4.127 in /usr/local/lib/python3.11/dist-packages (from torch>=1.3.0->stanza) (12.4.127)\n",
            "Requirement already satisfied: nvidia-nvjitlink-cu12==12.4.127 in /usr/local/lib/python3.11/dist-packages (from torch>=1.3.0->stanza) (12.4.127)\n",
            "Requirement already satisfied: triton==3.2.0 in /usr/local/lib/python3.11/dist-packages (from torch>=1.3.0->stanza) (3.2.0)\n",
            "Requirement already satisfied: sympy==1.13.1 in /usr/local/lib/python3.11/dist-packages (from torch>=1.3.0->stanza) (1.13.1)\n",
            "Requirement already satisfied: mpmath<1.4,>=1.1.0 in /usr/local/lib/python3.11/dist-packages (from sympy==1.13.1->torch>=1.3.0->stanza) (1.3.0)\n",
            "Requirement already satisfied: charset-normalizer<4,>=2 in /usr/local/lib/python3.11/dist-packages (from requests->stanza) (3.4.1)\n",
            "Requirement already satisfied: idna<4,>=2.5 in /usr/local/lib/python3.11/dist-packages (from requests->stanza) (3.10)\n",
            "Requirement already satisfied: urllib3<3,>=1.21.1 in /usr/local/lib/python3.11/dist-packages (from requests->stanza) (2.3.0)\n",
            "Requirement already satisfied: certifi>=2017.4.17 in /usr/local/lib/python3.11/dist-packages (from requests->stanza) (2025.1.31)\n",
            "Requirement already satisfied: MarkupSafe>=2.0 in /usr/local/lib/python3.11/dist-packages (from jinja2->torch>=1.3.0->stanza) (3.0.2)\n"
          ]
        }
      ]
    },
    {
      "cell_type": "code",
      "source": [
        "import stanza\n",
        "stanza.download('hi')\n",
        "nlp=stanza.Pipeline('hi')"
      ],
      "metadata": {
        "colab": {
          "base_uri": "https://localhost:8080/",
          "height": 483,
          "referenced_widgets": [
            "4d8952e8b4a94716b2443d9ea99a2e06",
            "dcd55a5491cf46f2890a7d5783790c76",
            "366547932d11491696a8345d43723fb3",
            "1182b4626db04382a325d52b656d2603",
            "b775d0a6919744e28c387b893ea4e81d",
            "264d3c1d73f9451f9c3d46baed7e6e0f",
            "3fc48b4a60494bb69b4457ab987eec7a",
            "17d5a1d08bea43c689226d0f1a23d6b1",
            "6d5e311b6eb84aa5befabd310827c41a",
            "4b40886f36054468862f98604d89741e",
            "8633a8fb42c349f9b2f56fdb8afc84ef",
            "b4236341c13240b79b5f25117ca1f284",
            "cefcf5980da84174a8337ea7dafb324b",
            "35f9c8ddb38b45c2b56fdacee6da724d",
            "d00571cf323341deade0006d5e88a1b6",
            "6289d7c9026b4ec89db80e4174c1f494",
            "fde216a5b7884ce58133f8b9338e5970",
            "717454352ad847c7a955fd1dedc38b36",
            "a3a5aedfb93d4e91b293ea3774e0f0d0",
            "ead6b439fdd9446fb36882d3005d267c",
            "921e5fdab88045208d30930b119896fd",
            "57540b515e1a4b978f3393564857b315"
          ]
        },
        "id": "sR_PkDRsxfUE",
        "outputId": "34c2cbd7-95d3-4fe2-f6a8-71e3a748e713"
      },
      "execution_count": 35,
      "outputs": [
        {
          "output_type": "display_data",
          "data": {
            "text/plain": [
              "Downloading https://raw.githubusercontent.com/stanfordnlp/stanza-resources/main/resources_1.10.0.json:   0%|  …"
            ],
            "application/vnd.jupyter.widget-view+json": {
              "version_major": 2,
              "version_minor": 0,
              "model_id": "4d8952e8b4a94716b2443d9ea99a2e06"
            }
          },
          "metadata": {}
        },
        {
          "output_type": "stream",
          "name": "stderr",
          "text": [
            "INFO:stanza:Downloaded file to /root/stanza_resources/resources.json\n",
            "INFO:stanza:Downloading default packages for language: hi (Hindi) ...\n",
            "INFO:stanza:File exists: /root/stanza_resources/hi/default.zip\n",
            "INFO:stanza:Finished downloading models and saved to /root/stanza_resources\n",
            "INFO:stanza:Checking for updates to resources.json in case models have been updated.  Note: this behavior can be turned off with download_method=None or download_method=DownloadMethod.REUSE_RESOURCES\n"
          ]
        },
        {
          "output_type": "display_data",
          "data": {
            "text/plain": [
              "Downloading https://raw.githubusercontent.com/stanfordnlp/stanza-resources/main/resources_1.10.0.json:   0%|  …"
            ],
            "application/vnd.jupyter.widget-view+json": {
              "version_major": 2,
              "version_minor": 0,
              "model_id": "b4236341c13240b79b5f25117ca1f284"
            }
          },
          "metadata": {}
        },
        {
          "output_type": "stream",
          "name": "stderr",
          "text": [
            "INFO:stanza:Downloaded file to /root/stanza_resources/resources.json\n",
            "INFO:stanza:Loading these models for language: hi (Hindi):\n",
            "=============================\n",
            "| Processor | Package       |\n",
            "-----------------------------\n",
            "| tokenize  | hdtb          |\n",
            "| pos       | hdtb_charlm   |\n",
            "| lemma     | hdtb_nocharlm |\n",
            "| depparse  | hdtb_charlm   |\n",
            "=============================\n",
            "\n",
            "INFO:stanza:Using device: cpu\n",
            "INFO:stanza:Loading: tokenize\n",
            "INFO:stanza:Loading: pos\n",
            "INFO:stanza:Loading: lemma\n",
            "INFO:stanza:Loading: depparse\n",
            "INFO:stanza:Done loading processors!\n"
          ]
        }
      ]
    },
    {
      "cell_type": "code",
      "source": [],
      "metadata": {
        "id": "DBGRT3pBvZP4"
      },
      "execution_count": 35,
      "outputs": []
    },
    {
      "cell_type": "code",
      "source": [
        "text=\"राम बहुत अच्छा लड़का है और वह रोज़ाना स्कूल जाता है। राम फुटबॉल भी अच्छा खेलता है। एक दिन वह फुटबॉल खेलने गया और उसके पैर में चोट लग गई।\"\n",
        "doc=nlp(text)\n",
        "for i, sentence in enumerate(doc.sentences):\n",
        "    print(f\"\\nSentence {i+1}: {' '.join([word.text for word in sentence.words])}\")\n",
        "    for word in sentence.words:\n",
        "        print(f\" - {word.text} ({word.upos})\")"
      ],
      "metadata": {
        "colab": {
          "base_uri": "https://localhost:8080/"
        },
        "id": "UL2thbHYLVZq",
        "outputId": "10b27ec7-5eaa-4d8b-ab74-74708dcdffa6"
      },
      "execution_count": 36,
      "outputs": [
        {
          "output_type": "stream",
          "name": "stdout",
          "text": [
            "\n",
            "Sentence 1: राम बहुत अच्छा लड़का है और वह रोज़ाना स्कूल जाता है ।\n",
            " - राम (PROPN)\n",
            " - बहुत (ADV)\n",
            " - अच्छा (ADJ)\n",
            " - लड़का (NOUN)\n",
            " - है (AUX)\n",
            " - और (CCONJ)\n",
            " - वह (PRON)\n",
            " - रोज़ाना (ADV)\n",
            " - स्कूल (NOUN)\n",
            " - जाता (VERB)\n",
            " - है (AUX)\n",
            " - । (PUNCT)\n",
            "\n",
            "Sentence 2: राम फुटबॉल भी अच्छा खेलता है ।\n",
            " - राम (PROPN)\n",
            " - फुटबॉल (PROPN)\n",
            " - भी (PART)\n",
            " - अच्छा (ADJ)\n",
            " - खेलता (VERB)\n",
            " - है (AUX)\n",
            " - । (PUNCT)\n",
            "\n",
            "Sentence 3: एक दिन वह फुटबॉल खेलने गया और उसके पैर में चोट लग गई ।\n",
            " - एक (NUM)\n",
            " - दिन (NOUN)\n",
            " - वह (PRON)\n",
            " - फुटबॉल (NOUN)\n",
            " - खेलने (VERB)\n",
            " - गया (VERB)\n",
            " - और (CCONJ)\n",
            " - उसके (PRON)\n",
            " - पैर (NOUN)\n",
            " - में (ADP)\n",
            " - चोट (NOUN)\n",
            " - लग (VERB)\n",
            " - गई (AUX)\n",
            " - । (PUNCT)\n"
          ]
        }
      ]
    },
    {
      "cell_type": "code",
      "source": [
        "def extract_conjs(doc):\n",
        "    conjs = set()\n",
        "    for sentence in doc.sentences:\n",
        "        for word in sentence.words:\n",
        "            if word.upos == \"CCONJ\":\n",
        "                conjs.add(word.text)\n",
        "    return list(conjs)"
      ],
      "metadata": {
        "id": "6iNo6sqxvgee"
      },
      "execution_count": 37,
      "outputs": []
    },
    {
      "cell_type": "code",
      "source": [
        "\n",
        "conjs_list = extract_conjs(doc)"
      ],
      "metadata": {
        "id": "gvibuSVyxQvi"
      },
      "execution_count": 38,
      "outputs": []
    },
    {
      "cell_type": "code",
      "source": [
        "def segment_hindi_text(doc):\n",
        "    segments = []\n",
        "    current_segment = []\n",
        "\n",
        "    last_subject = None\n",
        "\n",
        "    for sentence in doc.sentences:\n",
        "        first_word = sentence.words[0]\n",
        "        first_pos = first_word.upos\n",
        "        first_lemma = first_word.lemma\n",
        "\n",
        "        # Simple rules\n",
        "        if first_pos == 'PRON' and last_subject:\n",
        "            # Continue the current segment\n",
        "            current_segment.append(sentence.text)\n",
        "        elif first_pos == 'CCONJ' or first_lemma in conjs_list:\n",
        "            # Conjunctions → continue\n",
        "            current_segment.append(sentence.text)\n",
        "        else:\n",
        "            # Start a new segment\n",
        "            if current_segment:\n",
        "                segments.append(\" \".join(current_segment))\n",
        "            current_segment = [sentence.text]\n",
        "\n",
        "            # Save subject if named\n",
        "            if first_pos in ['PROPN', 'NOUN']:\n",
        "                last_subject = first_word.text\n",
        "\n",
        "    # Append the final segment\n",
        "    if current_segment:\n",
        "        segments.append(\" \".join(current_segment))\n",
        "\n",
        "    return segments"
      ],
      "metadata": {
        "id": "sIFe6LEqM5rc"
      },
      "execution_count": 39,
      "outputs": []
    },
    {
      "cell_type": "code",
      "source": [
        "segments = segment_hindi_text(doc)\n",
        "\n",
        "print(\"\\nSegmented Output:\\n\")\n",
        "for i, segment in enumerate(segments, 1):\n",
        "    print(f\"[Segment {i}]: {segment}\")"
      ],
      "metadata": {
        "colab": {
          "base_uri": "https://localhost:8080/"
        },
        "id": "yxsUu9StWBpt",
        "outputId": "a07b4df7-6ac3-4f13-e755-c90d49bb01fc"
      },
      "execution_count": 40,
      "outputs": [
        {
          "output_type": "stream",
          "name": "stdout",
          "text": [
            "\n",
            "Segmented Output:\n",
            "\n",
            "[Segment 1]: राम बहुत अच्छा लड़का है और वह रोज़ाना स्कूल जाता है।\n",
            "[Segment 2]: राम फुटबॉल भी अच्छा खेलता है।\n",
            "[Segment 3]: एक दिन वह फुटबॉल खेलने गया और उसके पैर में चोट लग गई।\n"
          ]
        }
      ]
    },
    {
      "cell_type": "code",
      "source": [
        "def extract_pronouns(doc):\n",
        "    pronoun = set()\n",
        "    for sentence in doc.sentences:\n",
        "        for word in sentence.words:\n",
        "            if word.upos == \"PRON\":\n",
        "                pronoun.add(word.text)\n",
        "    return list(pronoun)"
      ],
      "metadata": {
        "id": "H3y4jmPw-Q1s"
      },
      "execution_count": 41,
      "outputs": []
    },
    {
      "cell_type": "code",
      "source": [
        "pron_list = extract_pronouns(doc)"
      ],
      "metadata": {
        "id": "E0AjEoJjWM0c"
      },
      "execution_count": 42,
      "outputs": []
    },
    {
      "cell_type": "code",
      "source": [
        "def segment_with_subject_tracking(doc):\n",
        "    segments = []\n",
        "    current_segment = []\n",
        "    last_subject = None\n",
        "    pronoun_list = pron_list\n",
        "\n",
        "    for sentence in doc.sentences:\n",
        "        words = sentence.words\n",
        "        first_word = words[0].text\n",
        "        first_pos = words[0].upos\n",
        "\n",
        "        # Case 1: Sentence starts with a pronoun like \"वह\"\n",
        "        if first_word in pronoun_list and last_subject:\n",
        "            current_segment.append(sentence.text)\n",
        "\n",
        "        # Case 2: Sentence starts with named subject (NOUN/PROPN)\n",
        "        elif first_pos in ['NOUN', 'PROPN']:\n",
        "            # If same as last subject, continue; else start new segment\n",
        "            if first_word == last_subject:\n",
        "                current_segment.append(sentence.text)\n",
        "            else:\n",
        "                if current_segment:\n",
        "                    segments.append(\" \".join(current_segment))\n",
        "                current_segment = [sentence.text]\n",
        "                last_subject = first_word\n",
        "\n",
        "        # Case 3: Other types (events, conjunctions, adverbs)\n",
        "        else:\n",
        "            # If sentence starts a new scene (e.g., \"एक दिन\"), break\n",
        "            if first_word in ['एक', 'फिर', 'तब', 'उसके', 'बाद']:\n",
        "                if current_segment:\n",
        "                    segments.append(\" \".join(current_segment))\n",
        "                current_segment = [sentence.text]\n",
        "            else:\n",
        "                current_segment.append(sentence.text)\n",
        "\n",
        "    if current_segment:\n",
        "        segments.append(\" \".join(current_segment))\n",
        "\n",
        "    return segments\n"
      ],
      "metadata": {
        "id": "3j71Z7Gr-nR4"
      },
      "execution_count": 43,
      "outputs": []
    },
    {
      "cell_type": "code",
      "source": [
        "\n",
        "segments = segment_with_subject_tracking(doc)\n",
        "\n",
        "print(\"\\nSegmented Output:\\n\")\n",
        "for i, segment in enumerate(segments, 1):\n",
        "    print(f\"[Segment {i}]: {segment}\")"
      ],
      "metadata": {
        "colab": {
          "base_uri": "https://localhost:8080/"
        },
        "id": "d3NxFTao_lN2",
        "outputId": "6967c277-2bcf-4423-d6fa-24b580e9858b"
      },
      "execution_count": 44,
      "outputs": [
        {
          "output_type": "stream",
          "name": "stdout",
          "text": [
            "\n",
            "Segmented Output:\n",
            "\n",
            "[Segment 1]: राम बहुत अच्छा लड़का है और वह रोज़ाना स्कूल जाता है। राम फुटबॉल भी अच्छा खेलता है।\n",
            "[Segment 2]: एक दिन वह फुटबॉल खेलने गया और उसके पैर में चोट लग गई।\n"
          ]
        }
      ]
    },
    {
      "cell_type": "code",
      "source": [
        "scene_starting_pos = ['ADV', 'SCONJ', 'ADP', 'DET', 'NUM']\n",
        "\n",
        "def is_scene_change(sentence):\n",
        "    if not sentence.words:\n",
        "        return False\n",
        "    first_word = sentence.words[0]\n",
        "    return first_word.upos in scene_starting_pos"
      ],
      "metadata": {
        "id": "PDLNY3-w_rt_"
      },
      "execution_count": 45,
      "outputs": []
    },
    {
      "cell_type": "code",
      "source": [
        "def segment_hindi_text_rule_based(text, nlp):\n",
        "    doc = nlp(text)\n",
        "    pronoun_list = extract_pronouns(doc)\n",
        "\n",
        "    segments = []\n",
        "    current_segment = []\n",
        "    last_subject = None\n",
        "\n",
        "    for sentence in doc.sentences:\n",
        "        words = sentence.words\n",
        "        if not words:\n",
        "            continue  # Skip empty sentences\n",
        "\n",
        "        first_word = words[0].text\n",
        "        first_pos = words[0].upos\n",
        "\n",
        "        if first_word in pronoun_list and last_subject:\n",
        "            current_segment.append(sentence.text)\n",
        "\n",
        "        elif first_pos in ['NOUN', 'PROPN']:\n",
        "            if first_word == last_subject:\n",
        "                current_segment.append(sentence.text)\n",
        "            else:\n",
        "                if current_segment:\n",
        "                    segments.append(\" \".join(current_segment))\n",
        "                current_segment = [sentence.text]\n",
        "                last_subject = first_word\n",
        "\n",
        "        elif is_scene_change(sentence):  # ✅ generalized check\n",
        "            if current_segment:\n",
        "                segments.append(\" \".join(current_segment))\n",
        "            current_segment = [sentence.text]\n",
        "\n",
        "        else:\n",
        "            current_segment.append(sentence.text)\n",
        "\n",
        "    if current_segment:\n",
        "        segments.append(\" \".join(current_segment))\n",
        "\n",
        "    return segments\n",
        "\n"
      ],
      "metadata": {
        "id": "aW4ul92YPyLK"
      },
      "execution_count": 47,
      "outputs": []
    },
    {
      "cell_type": "code",
      "source": [],
      "metadata": {
        "id": "3CH_DqMid_yq"
      },
      "execution_count": null,
      "outputs": []
    }
  ]
}