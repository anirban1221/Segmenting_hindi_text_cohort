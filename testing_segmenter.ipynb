{
  "nbformat": 4,
  "nbformat_minor": 0,
  "metadata": {
    "colab": {
      "provenance": []
    },
    "kernelspec": {
      "name": "python3",
      "display_name": "Python 3"
    },
    "language_info": {
      "name": "python"
    }
  },
  "cells": [
    {
      "cell_type": "code",
      "execution_count": 22,
      "metadata": {
        "colab": {
          "base_uri": "https://localhost:8080/"
        },
        "id": "C8LDl2iog7Y2",
        "outputId": "3873394b-c715-4c70-a9b7-1c7ca0d5eba2"
      },
      "outputs": [
        {
          "output_type": "stream",
          "name": "stdout",
          "text": [
            "Mounted at /content/drive\n"
          ]
        }
      ],
      "source": [
        "from google.colab import drive\n",
        "drive.mount('/content/drive',force_remount=True)"
      ]
    },
    {
      "cell_type": "code",
      "source": [
        "def load_sample_text(file_path):\n",
        "    with open(file_path, 'r', encoding='utf-8') as file:\n",
        "        return file.read()"
      ],
      "metadata": {
        "id": "DqoHhZ2ElHmP"
      },
      "execution_count": 23,
      "outputs": []
    },
    {
      "cell_type": "code",
      "source": [
        "pip install git+https://github.com/anoopkunchukuttan/indic_nlp_library.git"
      ],
      "metadata": {
        "colab": {
          "base_uri": "https://localhost:8080/"
        },
        "id": "wNt93uJBofik",
        "outputId": "0891d6f9-623e-45ed-9360-96d42e9f4e56"
      },
      "execution_count": 24,
      "outputs": [
        {
          "output_type": "stream",
          "name": "stdout",
          "text": [
            "Collecting git+https://github.com/anoopkunchukuttan/indic_nlp_library.git\n",
            "  Cloning https://github.com/anoopkunchukuttan/indic_nlp_library.git to /tmp/pip-req-build-c7rbbheb\n",
            "  Running command git clone --filter=blob:none --quiet https://github.com/anoopkunchukuttan/indic_nlp_library.git /tmp/pip-req-build-c7rbbheb\n",
            "  Resolved https://github.com/anoopkunchukuttan/indic_nlp_library.git to commit 4cead0ae6c78fe9a19a51ef679f586206df9c476\n",
            "  Preparing metadata (setup.py) ... \u001b[?25l\u001b[?25hdone\n",
            "Requirement already satisfied: sphinx-argparse in /usr/local/lib/python3.11/dist-packages (from indic_nlp_library==0.92) (0.5.2)\n",
            "Requirement already satisfied: sphinx_rtd_theme in /usr/local/lib/python3.11/dist-packages (from indic_nlp_library==0.92) (3.0.2)\n",
            "Requirement already satisfied: morfessor in /usr/local/lib/python3.11/dist-packages (from indic_nlp_library==0.92) (2.0.6)\n",
            "Requirement already satisfied: pandas in /usr/local/lib/python3.11/dist-packages (from indic_nlp_library==0.92) (2.2.2)\n",
            "Requirement already satisfied: numpy in /usr/local/lib/python3.11/dist-packages (from indic_nlp_library==0.92) (2.0.2)\n",
            "Requirement already satisfied: python-dateutil>=2.8.2 in /usr/local/lib/python3.11/dist-packages (from pandas->indic_nlp_library==0.92) (2.8.2)\n",
            "Requirement already satisfied: pytz>=2020.1 in /usr/local/lib/python3.11/dist-packages (from pandas->indic_nlp_library==0.92) (2025.2)\n",
            "Requirement already satisfied: tzdata>=2022.7 in /usr/local/lib/python3.11/dist-packages (from pandas->indic_nlp_library==0.92) (2025.2)\n",
            "Requirement already satisfied: sphinx>=5.1.0 in /usr/local/lib/python3.11/dist-packages (from sphinx-argparse->indic_nlp_library==0.92) (8.2.3)\n",
            "Requirement already satisfied: docutils>=0.19 in /usr/local/lib/python3.11/dist-packages (from sphinx-argparse->indic_nlp_library==0.92) (0.21.2)\n",
            "Requirement already satisfied: sphinxcontrib-jquery<5,>=4 in /usr/local/lib/python3.11/dist-packages (from sphinx_rtd_theme->indic_nlp_library==0.92) (4.1)\n",
            "Requirement already satisfied: six>=1.5 in /usr/local/lib/python3.11/dist-packages (from python-dateutil>=2.8.2->pandas->indic_nlp_library==0.92) (1.17.0)\n",
            "Requirement already satisfied: sphinxcontrib-applehelp>=1.0.7 in /usr/local/lib/python3.11/dist-packages (from sphinx>=5.1.0->sphinx-argparse->indic_nlp_library==0.92) (2.0.0)\n",
            "Requirement already satisfied: sphinxcontrib-devhelp>=1.0.6 in /usr/local/lib/python3.11/dist-packages (from sphinx>=5.1.0->sphinx-argparse->indic_nlp_library==0.92) (2.0.0)\n",
            "Requirement already satisfied: sphinxcontrib-htmlhelp>=2.0.6 in /usr/local/lib/python3.11/dist-packages (from sphinx>=5.1.0->sphinx-argparse->indic_nlp_library==0.92) (2.1.0)\n",
            "Requirement already satisfied: sphinxcontrib-jsmath>=1.0.1 in /usr/local/lib/python3.11/dist-packages (from sphinx>=5.1.0->sphinx-argparse->indic_nlp_library==0.92) (1.0.1)\n",
            "Requirement already satisfied: sphinxcontrib-qthelp>=1.0.6 in /usr/local/lib/python3.11/dist-packages (from sphinx>=5.1.0->sphinx-argparse->indic_nlp_library==0.92) (2.0.0)\n",
            "Requirement already satisfied: sphinxcontrib-serializinghtml>=1.1.9 in /usr/local/lib/python3.11/dist-packages (from sphinx>=5.1.0->sphinx-argparse->indic_nlp_library==0.92) (2.0.0)\n",
            "Requirement already satisfied: Jinja2>=3.1 in /usr/local/lib/python3.11/dist-packages (from sphinx>=5.1.0->sphinx-argparse->indic_nlp_library==0.92) (3.1.6)\n",
            "Requirement already satisfied: Pygments>=2.17 in /usr/local/lib/python3.11/dist-packages (from sphinx>=5.1.0->sphinx-argparse->indic_nlp_library==0.92) (2.18.0)\n",
            "Requirement already satisfied: snowballstemmer>=2.2 in /usr/local/lib/python3.11/dist-packages (from sphinx>=5.1.0->sphinx-argparse->indic_nlp_library==0.92) (2.2.0)\n",
            "Requirement already satisfied: babel>=2.13 in /usr/local/lib/python3.11/dist-packages (from sphinx>=5.1.0->sphinx-argparse->indic_nlp_library==0.92) (2.17.0)\n",
            "Requirement already satisfied: alabaster>=0.7.14 in /usr/local/lib/python3.11/dist-packages (from sphinx>=5.1.0->sphinx-argparse->indic_nlp_library==0.92) (1.0.0)\n",
            "Requirement already satisfied: imagesize>=1.3 in /usr/local/lib/python3.11/dist-packages (from sphinx>=5.1.0->sphinx-argparse->indic_nlp_library==0.92) (1.4.1)\n",
            "Requirement already satisfied: requests>=2.30.0 in /usr/local/lib/python3.11/dist-packages (from sphinx>=5.1.0->sphinx-argparse->indic_nlp_library==0.92) (2.32.3)\n",
            "Requirement already satisfied: roman-numerals-py>=1.0.0 in /usr/local/lib/python3.11/dist-packages (from sphinx>=5.1.0->sphinx-argparse->indic_nlp_library==0.92) (3.1.0)\n",
            "Requirement already satisfied: packaging>=23.0 in /usr/local/lib/python3.11/dist-packages (from sphinx>=5.1.0->sphinx-argparse->indic_nlp_library==0.92) (24.2)\n",
            "Requirement already satisfied: MarkupSafe>=2.0 in /usr/local/lib/python3.11/dist-packages (from Jinja2>=3.1->sphinx>=5.1.0->sphinx-argparse->indic_nlp_library==0.92) (3.0.2)\n",
            "Requirement already satisfied: charset-normalizer<4,>=2 in /usr/local/lib/python3.11/dist-packages (from requests>=2.30.0->sphinx>=5.1.0->sphinx-argparse->indic_nlp_library==0.92) (3.4.1)\n",
            "Requirement already satisfied: idna<4,>=2.5 in /usr/local/lib/python3.11/dist-packages (from requests>=2.30.0->sphinx>=5.1.0->sphinx-argparse->indic_nlp_library==0.92) (3.10)\n",
            "Requirement already satisfied: urllib3<3,>=1.21.1 in /usr/local/lib/python3.11/dist-packages (from requests>=2.30.0->sphinx>=5.1.0->sphinx-argparse->indic_nlp_library==0.92) (2.3.0)\n",
            "Requirement already satisfied: certifi>=2017.4.17 in /usr/local/lib/python3.11/dist-packages (from requests>=2.30.0->sphinx>=5.1.0->sphinx-argparse->indic_nlp_library==0.92) (2025.1.31)\n"
          ]
        }
      ]
    },
    {
      "cell_type": "code",
      "source": [
        "import indicnlp\n",
        "from indicnlp.tokenize.sentence_tokenize import sentence_split\n",
        "\n",
        "def split_sentences(text, lang='hi'):\n",
        "    return sentence_split(text, lang)"
      ],
      "metadata": {
        "id": "CG8JvOW5ojxn"
      },
      "execution_count": 25,
      "outputs": []
    },
    {
      "cell_type": "code",
      "source": [
        "file_path='/content/drive/MyDrive/segmentation_project/jnehru_testing.txt'\n",
        "sample_text = load_sample_text(file_path)\n",
        "sentences = split_sentences(sample_text)\n",
        "print(sentences)"
      ],
      "metadata": {
        "colab": {
          "base_uri": "https://localhost:8080/"
        },
        "id": "zuph4fzrotKR",
        "outputId": "3cd9b225-9d92-4b2d-f1ed-36e6747704e8"
      },
      "execution_count": 26,
      "outputs": [
        {
          "output_type": "stream",
          "name": "stdout",
          "text": [
            "['जवाहरलाल नेहरू (नवम्बर १४,१८८९ - मई २७, १९६४) भारत के प्रथम प्रधानमन्त्री थे और स्वतन्त्रता के पूर्व और पश्चात् की भारतीय राजनीति में केन्द्रीय व्यक्तित्व थे।', 'महात्मा गांधी के संरक्षण में, वे भारतीय स्वतन्त्रता आन्दोलन के सर्वोच्च नेता के रूप में उभरे और उन्होंने १९४७ में भारत के एक स्वतन्त्र राष्ट्र के रूप में स्थापना से लेकर १९६४ तक अपने निधन तक, भारत का शासन किया।', 'वे आधुनिक भारतीय राष्ट्र-राज्य – एक सम्प्रभु, समाजवादी, धर्मनिरपेक्ष, और लोकतान्त्रिक गणतन्त्र - के वास्तुकार माने जाते हैं।', 'कश्मीरी पण्डित समुदाय के साथ उनके मूल की वजह से वे पण्डित नेहरू भी बुलाए जाते थे, जबकि भारतीय बच्चे उन्हें चाचा नेहरू के रूप में जानते हैं।', '[1][2]\\n\\nस्वतन्त्र भारत के प्रथम प्रधानमन्त्री का पद संभालने के लिए कांग्रेस द्वारा नेहरू निर्वाचित हुए, यद्यपि नेतृत्व का प्रश्न बहुत पहले 1941 में ही सुलझ चुका था, जब गांधीजी ने नेहरू को उनके राजनीतिक वारिस और उत्तराधिकारी के रूप में अभिस्वीकार किया।', 'प्रधानमन्त्री के रूप में, वे भारत के सपने को साकार करने के लिए चल पड़े।', 'भारत का संविधान १९५० में अधिनियमित हुआ, जिसके बाद उन्होंने आर्थिक, सामाजिक और राजनीतिक सुधारों के एक महत्त्वाकांक्षी योजना की शुरुआत की।', 'मुख्यतः, एक बहुवचनी, बहु-दलीय लोकतन्त्र को पोषित करते हुए, उन्होंने भारत के एक उपनिवेश से गणराज्य में परिवर्तन होने का पर्यवेक्षण किया।', 'विदेश नीति में, भारत को दक्षिण एशिया में एक क्षेत्रीय नायक के रूप में प्रदर्शित करनिरपेक्ष आन्दोलन में एक अग्रणी भूमिका निभाई।', 'नेहरू के नेतृत्व में, कांग्रेस राष्ट्रीय और राज्य-स्तरीय चुनावों में प्रभुत्व दिखाते हुए और १९५१, १९५७, और १९६२ के लगातार चुनाव जीतते हुए, एक सर्व-ग्रहण पार्टी के रूप में उभरी।', 'उनके अन्तिम वर्षों में राजनीतिक संकटों और १९६२ के चीनी-भारत युद्ध के बाद भी , वे भारत में लोगों के बीच लोकप्रिय बने रहे ।', 'भारत में, उनका जन्मदिन बाल दिवस के रूप में मनाया जाता है।']\n"
          ]
        }
      ]
    },
    {
      "cell_type": "code",
      "source": [
        "from sentence_transformers import SentenceTransformer\n",
        "import torch\n",
        "import torch.nn as nn\n",
        "from transformers import AutoModel\n",
        "\n",
        "device = 'cuda' if torch.cuda.is_available() else 'cpu'\n",
        "\n",
        "class SiameseContrastiveModel(nn.Module):\n",
        "    def __init__(self, model_name='sentence-transformers/paraphrase-multilingual-MiniLM-L12-v2'):\n",
        "        super(SiameseContrastiveModel, self).__init__()\n",
        "        self.encoder = AutoModel.from_pretrained(model_name)\n",
        "\n",
        "    def forward(self, input_ids, attention_mask):\n",
        "        output = self.encoder(input_ids=input_ids, attention_mask=attention_mask)\n",
        "        return output.last_hidden_state[:, 0, :]  # CLS token\n",
        "\n",
        "# Load model and tokenizer\n",
        "model = SiameseContrastiveModel().to(device)\n",
        "model.load_state_dict(torch.load(\"/content/drive/MyDrive/segmentation_project/segmenter_model.pt\", map_location=device))\n",
        "model.eval()\n",
        "\n",
        "from transformers import AutoTokenizer\n",
        "tokenizer = AutoTokenizer.from_pretrained('sentence-transformers/paraphrase-multilingual-MiniLM-L12-v2')\n"
      ],
      "metadata": {
        "id": "gN9nPwkFowuV"
      },
      "execution_count": 27,
      "outputs": []
    },
    {
      "cell_type": "code",
      "source": [
        "def get_sentence_embeddings(sentences, model, tokenizer):\n",
        "    model.eval()\n",
        "    model.to(device)\n",
        "    embeddings = []\n",
        "\n",
        "    with torch.no_grad():\n",
        "        for i in range(0, len(sentences), 16):  # batch size\n",
        "            batch = sentences[i:i+16]\n",
        "            encoded = tokenizer(batch, padding=True, truncation=True, return_tensors=\"pt\", max_length=128)\n",
        "            input_ids = encoded['input_ids'].to(device)\n",
        "            attention_mask = encoded['attention_mask'].to(device)\n",
        "\n",
        "            emb = model(input_ids, attention_mask)  # Uses forward()\n",
        "            embeddings.append(emb.cpu())\n",
        "\n",
        "    return torch.cat(embeddings).numpy()\n"
      ],
      "metadata": {
        "id": "eqwGN1xprVv0"
      },
      "execution_count": 31,
      "outputs": []
    },
    {
      "cell_type": "code",
      "source": [
        "embeddings = get_sentence_embeddings(sentences, model, tokenizer)\n"
      ],
      "metadata": {
        "id": "TxKbxa7BpI5F"
      },
      "execution_count": 32,
      "outputs": []
    },
    {
      "cell_type": "code",
      "source": [
        "import networkx as nx\n",
        "from sklearn.metrics.pairwise import cosine_similarity\n",
        "\n",
        "def segment_text_graph(sentences, embeddings, sim_threshold=0.4):\n",
        "    G = nx.Graph()\n",
        "\n",
        "    # Add nodes for each sentence\n",
        "    for i, sentence in enumerate(sentences):\n",
        "        G.add_node(i, text=sentence)\n",
        "\n",
        "    # Connect nodes (sentences) with edges based on similarity\n",
        "    for i in range(len(sentences)):\n",
        "        for j in range(i + 1, len(sentences)):\n",
        "            sim = cosine_similarity([embeddings[i]], [embeddings[j]])[0][0]\n",
        "            if sim >= sim_threshold:\n",
        "                G.add_edge(i, j, weight=sim)\n",
        "\n",
        "    # Detect communities (segments)\n",
        "    from networkx.algorithms.community import greedy_modularity_communities\n",
        "    communities = list(greedy_modularity_communities(G))\n",
        "\n",
        "    # Sort and return segments\n",
        "    segments = []\n",
        "    for community in sorted(communities, key=lambda x: min(x)):\n",
        "        sorted_sents = [sentences[i] for i in sorted(community)]\n",
        "        segments.append(\" \".join(sorted_sents))\n",
        "\n",
        "    return segments\n",
        "\n",
        "# Test segmentation\n",
        "segments = segment_text_graph(sentences, embeddings)\n",
        "for i, seg in enumerate(segments):\n",
        "    print(f\"[Segment {i+1}]: {seg}\")\n"
      ],
      "metadata": {
        "colab": {
          "base_uri": "https://localhost:8080/"
        },
        "id": "KpulDgAhpYsR",
        "outputId": "9cf3abc5-e871-4143-89d9-e10c274484ac"
      },
      "execution_count": 33,
      "outputs": [
        {
          "output_type": "stream",
          "name": "stdout",
          "text": [
            "[Segment 1]: जवाहरलाल नेहरू (नवम्बर १४,१८८९ - मई २७, १९६४) भारत के प्रथम प्रधानमन्त्री थे और स्वतन्त्रता के पूर्व और पश्चात् की भारतीय राजनीति में केन्द्रीय व्यक्तित्व थे। महात्मा गांधी के संरक्षण में, वे भारतीय स्वतन्त्रता आन्दोलन के सर्वोच्च नेता के रूप में उभरे और उन्होंने १९४७ में भारत के एक स्वतन्त्र राष्ट्र के रूप में स्थापना से लेकर १९६४ तक अपने निधन तक, भारत का शासन किया। कश्मीरी पण्डित समुदाय के साथ उनके मूल की वजह से वे पण्डित नेहरू भी बुलाए जाते थे, जबकि भारतीय बच्चे उन्हें चाचा नेहरू के रूप में जानते हैं। भारत का संविधान १९५० में अधिनियमित हुआ, जिसके बाद उन्होंने आर्थिक, सामाजिक और राजनीतिक सुधारों के एक महत्त्वाकांक्षी योजना की शुरुआत की। विदेश नीति में, भारत को दक्षिण एशिया में एक क्षेत्रीय नायक के रूप में प्रदर्शित करनिरपेक्ष आन्दोलन में एक अग्रणी भूमिका निभाई। नेहरू के नेतृत्व में, कांग्रेस राष्ट्रीय और राज्य-स्तरीय चुनावों में प्रभुत्व दिखाते हुए और १९५१, १९५७, और १९६२ के लगातार चुनाव जीतते हुए, एक सर्व-ग्रहण पार्टी के रूप में उभरी।\n",
            "[Segment 2]: वे आधुनिक भारतीय राष्ट्र-राज्य – एक सम्प्रभु, समाजवादी, धर्मनिरपेक्ष, और लोकतान्त्रिक गणतन्त्र - के वास्तुकार माने जाते हैं। [1][2]\n",
            "\n",
            "स्वतन्त्र भारत के प्रथम प्रधानमन्त्री का पद संभालने के लिए कांग्रेस द्वारा नेहरू निर्वाचित हुए, यद्यपि नेतृत्व का प्रश्न बहुत पहले 1941 में ही सुलझ चुका था, जब गांधीजी ने नेहरू को उनके राजनीतिक वारिस और उत्तराधिकारी के रूप में अभिस्वीकार किया। प्रधानमन्त्री के रूप में, वे भारत के सपने को साकार करने के लिए चल पड़े। मुख्यतः, एक बहुवचनी, बहु-दलीय लोकतन्त्र को पोषित करते हुए, उन्होंने भारत के एक उपनिवेश से गणराज्य में परिवर्तन होने का पर्यवेक्षण किया। उनके अन्तिम वर्षों में राजनीतिक संकटों और १९६२ के चीनी-भारत युद्ध के बाद भी , वे भारत में लोगों के बीच लोकप्रिय बने रहे । भारत में, उनका जन्मदिन बाल दिवस के रूप में मनाया जाता है।\n"
          ]
        }
      ]
    },
    {
      "cell_type": "code",
      "source": [],
      "metadata": {
        "id": "uu8fbhI6r8wJ"
      },
      "execution_count": null,
      "outputs": []
    }
  ]
}